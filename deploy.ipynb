{
 "cells": [
  {
   "cell_type": "code",
   "execution_count": 1,
   "id": "4c3a6eb9",
   "metadata": {},
   "outputs": [],
   "source": [
    "# import required libraries\n",
    "from azure.ai.ml import MLClient\n",
    "from azure.ai.ml.entities import (\n",
    "    ManagedOnlineEndpoint,\n",
    "    ManagedOnlineDeployment,\n",
    "    Model,\n",
    "    Environment,\n",
    "    CodeConfiguration\n",
    ")\n",
    "from azure.identity import AzureCliCredential, DefaultAzureCredential"
   ]
  },
  {
   "cell_type": "code",
   "execution_count": 2,
   "id": "008aeced",
   "metadata": {},
   "outputs": [],
   "source": [
    "credential = AzureCliCredential()"
   ]
  },
  {
   "cell_type": "code",
   "execution_count": null,
   "id": "004be0ad",
   "metadata": {},
   "outputs": [],
   "source": [
    "# enter details of your Azure Machine Learning workspace\n",
    "subscription_id = \"\"\n",
    "resource_group = \"soulfriendly\"\n",
    "workspace = \"soulfriend\""
   ]
  },
  {
   "cell_type": "code",
   "execution_count": 4,
   "id": "a560fb17",
   "metadata": {},
   "outputs": [],
   "source": [
    "# get a handle to the workspace\n",
    "ml_client = MLClient(\n",
    "    credential, subscription_id, resource_group, workspace\n",
    ")"
   ]
  },
  {
   "cell_type": "code",
   "execution_count": 5,
   "id": "3490f86e",
   "metadata": {},
   "outputs": [],
   "source": [
    "# method 1: define an endpoint name\n",
    "endpoint_name = \"mood-classifier-endpoint\"\n",
    "\n",
    "# create an online endpoint\n",
    "endpoint = ManagedOnlineEndpoint(\n",
    "    name = endpoint_name, \n",
    "    description=\"this is a sample endpoint\",\n",
    "    auth_mode=\"key\"\n",
    ")"
   ]
  },
  {
   "cell_type": "code",
   "execution_count": 31,
   "id": "97835db1",
   "metadata": {},
   "outputs": [],
   "source": [
    "model = Model(path=\"model.pth\")\n",
    "env = Environment(\n",
    "    conda_file=\"conda.yml\",\n",
    "    image=\"mcr.microsoft.com/azureml/openmpi4.1.0-ubuntu20.04:latest\",\n",
    ")\n",
    "\n",
    "blue_deployment = ManagedOnlineDeployment(\n",
    "    name=\"blue\",\n",
    "    endpoint_name=endpoint_name,\n",
    "    model=model,\n",
    "    environment=env,\n",
    "    code_configuration=CodeConfiguration(\n",
    "        code=\".\", scoring_script=\"score.py\"\n",
    "    ),\n",
    "    instance_type=\"Standard_D2as_v4\",\n",
    "    instance_count=1,\n",
    ")"
   ]
  },
  {
   "cell_type": "code",
   "execution_count": 32,
   "id": "08e7b78f",
   "metadata": {},
   "outputs": [
    {
     "name": "stderr",
     "output_type": "stream",
     "text": [
      "Creating local endpoint (mood-classifier-endpoint) ."
     ]
    },
    {
     "name": "stderr",
     "output_type": "stream",
     "text": [
      "Done (0m 5s)\n"
     ]
    },
    {
     "data": {
      "text/plain": [
       "ManagedOnlineEndpoint({'public_network_access': None, 'provisioning_state': None, 'scoring_uri': None, 'openapi_uri': None, 'name': 'mood-classifier-endpoint', 'description': 'this is a sample endpoint', 'tags': {}, 'properties': {}, 'print_as_yaml': False, 'id': None, 'Resource__source_path': '', 'base_path': WindowsPath('C:/Users/thori/.azureml/inferencing/mood-classifier-endpoint'), 'creation_context': None, 'serialize': <msrest.serialization.Serializer object at 0x00000199A14A63D0>, 'auth_mode': 'key', 'location': None, 'identity': None, 'traffic': {}, 'mirror_traffic': {}, 'kind': None})"
      ]
     },
     "execution_count": 32,
     "metadata": {},
     "output_type": "execute_result"
    }
   ],
   "source": [
    "ml_client.online_endpoints.begin_create_or_update(endpoint, local=True)"
   ]
  },
  {
   "cell_type": "code",
   "execution_count": 33,
   "id": "59fdcc31",
   "metadata": {},
   "outputs": [
    {
     "name": "stderr",
     "output_type": "stream",
     "text": [
      "Creating local deployment (mood-classifier-endpoint / blue) .\n",
      "Building Docker image from Dockerfile.\n",
      "Step 1/6 : FROM mcr.microsoft.com/azureml/openmpi4.1.0-ubuntu20.04:latest\n",
      " ---> 83631454f85b\n",
      "Step 2/6 : RUN mkdir -p /var/azureml-app/\n",
      " ---> Using cache\n",
      " ---> 5c88b8e11f07\n",
      "Step 3/6 : WORKDIR /var/azureml-app/\n",
      " ---> Using cache\n",
      " ---> e3086b429727\n",
      "Step 4/6 : COPY conda.yml /var/azureml-app/\n",
      " ---> Using cache\n",
      " ---> d3b92771a080\n",
      "Step 5/6 : RUN conda env create -n inf-conda-env --file conda.yml\n",
      " ---> Using cache\n",
      " ---> dbdf73e8a552\n",
      "Step 6/6 : CMD [\"conda\", \"run\", \"--no-capture-output\", \"-n\", \"inf-conda-env\", \"runsvdir\", \"/var/runit\"]\n",
      " ---> Using cache\n",
      " ---> 6ec19244ef19\n",
      "Successfully built 6ec19244ef19\n",
      "Successfully tagged mood-classifier-endpoint:blue\n",
      "\n",
      "Starting up endpoint...Done (0m 25s)\n"
     ]
    },
    {
     "data": {
      "text/plain": [
       "ManagedOnlineDeployment({'private_network_connection': None, 'package_model': False, 'provisioning_state': 'Succeeded', 'endpoint_name': 'mood-classifier-endpoint', 'type': 'Managed', 'name': 'blue', 'description': None, 'tags': {}, 'properties': {}, 'print_as_yaml': False, 'id': None, 'Resource__source_path': '', 'base_path': WindowsPath('d:/Thoriq/Project/amls-pytorch-vscode/deployment'), 'creation_context': None, 'serialize': <msrest.serialization.Serializer object at 0x00000199A22E30D0>, 'model': Model({'job_name': None, 'intellectual_property': None, 'system_metadata': None, 'is_anonymous': False, 'auto_increment_version': False, 'auto_delete_setting': None, 'name': 'ac085473d82899c3d3f7d5c5acad2c23', 'description': None, 'tags': {}, 'properties': {}, 'print_as_yaml': False, 'id': None, 'Resource__source_path': '', 'base_path': WindowsPath('d:/Thoriq/Project/amls-pytorch-vscode/deployment'), 'creation_context': None, 'serialize': <msrest.serialization.Serializer object at 0x00000199A247B8D0>, 'version': '1', 'latest_version': None, 'path': 'D:\\\\Thoriq\\\\Project\\\\amls-pytorch-vscode\\\\deployment\\\\model.pth', 'datastore': None, 'utc_time_created': None, 'flavors': None, 'arm_type': 'model_version', 'type': 'custom_model', 'stage': None}), 'code_configuration': {'code': '.'}, 'environment': Environment({'arm_type': 'environment_version', 'latest_version': None, 'image': 'mcr.microsoft.com/azureml/openmpi4.1.0-ubuntu20.04:latest', 'intellectual_property': None, 'is_anonymous': False, 'auto_increment_version': False, 'auto_delete_setting': None, 'name': 'CliV2AnonymousEnvironment', 'description': None, 'tags': {}, 'properties': {}, 'print_as_yaml': False, 'id': None, 'Resource__source_path': '', 'base_path': WindowsPath('d:/Thoriq/Project/amls-pytorch-vscode/deployment'), 'creation_context': None, 'serialize': <msrest.serialization.Serializer object at 0x00000199A2478A10>, 'version': '936baeeba52f1d276d85b5f93c8ce904', 'conda_file': {'name': 'project_environment', 'dependencies': ['python=3.8', {'pip': ['azureml-defaults', 'torch', 'torchvision', 'pillow', 'opencv-python-headless']}], 'channels': ['conda-forge']}, 'build': None, 'inference_config': None, 'os_type': None, 'conda_file_path': None, 'path': None, 'datastore': None, 'upload_hash': None, 'translated_conda_file': 'channels:\\n- conda-forge\\ndependencies:\\n- python=3.8\\n- pip:\\n  - azureml-defaults\\n  - torch\\n  - torchvision\\n  - pillow\\n  - opencv-python-headless\\nname: project_environment\\n'}), 'environment_variables': {}, 'app_insights_enabled': False, 'scale_settings': None, 'request_settings': None, 'liveness_probe': None, 'readiness_probe': None, 'instance_count': 1, 'arm_type': 'online_deployment', 'model_mount_path': None, 'instance_type': 'local', 'data_collector': None, 'egress_public_network_access': None})"
      ]
     },
     "execution_count": 33,
     "metadata": {},
     "output_type": "execute_result"
    }
   ],
   "source": [
    "ml_client.online_deployments.begin_create_or_update(\n",
    "    deployment=blue_deployment, local=True\n",
    ")"
   ]
  },
  {
   "cell_type": "code",
   "execution_count": 35,
   "id": "4eaf2bce",
   "metadata": {},
   "outputs": [
    {
     "data": {
      "text/plain": [
       "ManagedOnlineEndpoint({'public_network_access': None, 'provisioning_state': 'Succeeded', 'scoring_uri': 'http://localhost:32779/score', 'openapi_uri': None, 'name': 'mood-classifier-endpoint', 'description': 'this is a sample endpoint', 'tags': {}, 'properties': {}, 'print_as_yaml': False, 'id': None, 'Resource__source_path': '', 'base_path': WindowsPath('d:/Thoriq/Project/amls-pytorch-vscode/deployment'), 'creation_context': None, 'serialize': <msrest.serialization.Serializer object at 0x00000199A247CB10>, 'auth_mode': 'key', 'location': 'local', 'identity': None, 'traffic': {}, 'mirror_traffic': {}, 'kind': None})"
      ]
     },
     "execution_count": 35,
     "metadata": {},
     "output_type": "execute_result"
    }
   ],
   "source": [
    "ml_client.online_endpoints.get(name=endpoint_name, local=True)"
   ]
  },
  {
   "cell_type": "code",
   "execution_count": 36,
   "id": "3084276b",
   "metadata": {},
   "outputs": [
    {
     "data": {
      "text/plain": [
       "'2025-06-01T16:54:20,210969364+00:00 - nginx/run \\r\\n2025-06-01T16:54:20,210758596+00:00 - rsyslog/run \\r\\n2025-06-01T16:54:20,216334008+00:00 - gunicorn/run \\r\\n2025-06-01T16:54:20,219519282+00:00 | gunicorn/run | \\r\\n2025-06-01T16:54:20,221476136+00:00 | gunicorn/run | ###############################################\\r\\n2025-06-01T16:54:20,224295579+00:00 | gunicorn/run | AzureML Container Runtime Information\\r\\n2025-06-01T16:54:20,227306961+00:00 | gunicorn/run | ###############################################\\r\\n2025-06-01T16:54:20,230760467+00:00 | gunicorn/run | \\r\\n2025-06-01T16:54:20,834104429+00:00 | gunicorn/run | \\r\\n2025-06-01T16:54:20,837068135+00:00 | gunicorn/run | AzureML image information: openmpi4.1.0-ubuntu20.04, Materializaton Build:20250224.v1\\r\\n2025-06-01T16:54:20,839013717+00:00 | gunicorn/run | \\r\\n2025-06-01T16:54:20,841775174+00:00 | gunicorn/run | \\r\\n2025-06-01T16:54:20,844172257+00:00 | gunicorn/run | PATH environment variable: /opt/miniconda/envs/inf-conda-env/bin:/opt/miniconda/condabin:/opt/miniconda/bin:/usr/local/sbin:/usr/local/bin:/usr/sbin:/usr/bin:/sbin:/bin\\r\\n2025-06-01T16:54:20,846694115+00:00 | gunicorn/run | PYTHONPATH environment variable: \\r\\n2025-06-01T16:54:20,848497308+00:00 | gunicorn/run | \\r\\n2025-06-01T16:54:21,353140222+00:00 | gunicorn/run | CONDAPATH environment variable: /opt/miniconda\\r\\n\\r\\n\\r\\n# conda environments:\\r\\n#\\r\\nbase                   /opt/miniconda\\r\\ninf-conda-env        * /opt/miniconda/envs/inf-conda-env\\r\\n\\r\\n2025-06-01T16:54:21,844661226+00:00 | gunicorn/run | \\r\\n2025-06-01T16:54:21,845754813+00:00 | gunicorn/run | Pip Dependencies (before dynamic installation)\\r\\n\\r\\nadal==1.2.7\\r\\nannotated-types==0.7.0\\r\\nargcomplete==3.6.2\\r\\nattrs==25.3.0\\r\\nazure-common==1.1.28\\r\\nazure-core==1.33.0\\r\\nazure-graphrbac==0.61.2\\r\\nazure-identity==1.21.0\\r\\nazure-mgmt-authorization==4.0.0\\r\\nazure-mgmt-containerregistry==13.0.0\\r\\nazure-mgmt-core==1.5.0\\r\\nazure-mgmt-keyvault==11.0.0\\r\\nazure-mgmt-network==28.1.0\\r\\nazure-mgmt-resource==23.3.0\\r\\nazure-mgmt-storage==22.2.0\\r\\nazureml-core==1.60.0.post1\\r\\nazureml-dataprep==5.1.6\\r\\nazureml-dataprep-native==41.0.0\\r\\nazureml-dataprep-rslex==2.22.5\\r\\nazureml-dataset-runtime==1.60.0\\r\\nazureml-defaults==1.60.0\\r\\nazureml-inference-server-http==1.3.4\\r\\nbackports.tempfile==1.0\\r\\nbackports.weakref==1.0.post1\\r\\nbcrypt==4.3.0\\r\\nblinker==1.8.2\\r\\ncachetools==5.5.2\\r\\ncertifi==2025.4.26\\r\\ncffi==1.17.1\\r\\ncharset-normalizer==3.4.2\\r\\nclick==8.1.8\\r\\ncloudpickle==2.2.1\\r\\ncontextlib2==21.6.0\\r\\ncryptography==45.0.3\\r\\ndocker==7.1.0\\r\\nfilelock==3.16.1\\r\\nFlask==2.3.2\\r\\nFlask-Cors==5.0.0\\r\\nfsspec==2025.3.0\\r\\nfusepy==3.0.1\\r\\ngoogle-api-core==2.24.2\\r\\ngoogle-auth==2.40.2\\r\\ngoogleapis-common-protos==1.70.0\\r\\ngunicorn==23.0.0\\r\\nhumanfriendly==10.0\\r\\nidna==3.10\\r\\nimportlib_metadata==8.5.0\\r\\nimportlib_resources==6.4.5\\r\\ninference-schema==1.8\\r\\nisodate==0.7.2\\r\\nitsdangerous==2.2.0\\r\\njeepney==0.9.0\\r\\nJinja2==3.1.6\\r\\njmespath==1.0.1\\r\\njsonpickle==4.1.0\\r\\njsonschema==4.23.0\\r\\njsonschema-specifications==2023.12.1\\r\\nknack==0.12.0\\r\\nMarkupSafe==2.1.5\\r\\nmpmath==1.3.0\\r\\nmsal==1.32.3\\r\\nmsal-extensions==1.3.0\\r\\nmsrest==0.7.1\\r\\nmsrestazure==0.6.4.post1\\r\\nndg-httpsclient==0.5.1\\r\\nnetworkx==3.1\\r\\nnumpy==1.23.5\\r\\nnvidia-cublas-cu12==12.1.3.1\\r\\nnvidia-cuda-cupti-cu12==12.1.105\\r\\nnvidia-cuda-nvrtc-cu12==12.1.105\\r\\nnvidia-cuda-runtime-cu12==12.1.105\\r\\nnvidia-cudnn-cu12==9.1.0.70\\r\\nnvidia-cufft-cu12==11.0.2.54\\r\\nnvidia-curand-cu12==10.3.2.106\\r\\nnvidia-cusolver-cu12==11.4.5.107\\r\\nnvidia-cusparse-cu12==12.1.0.106\\r\\nnvidia-nccl-cu12==2.20.5\\r\\nnvidia-nvjitlink-cu12==12.9.41\\r\\nnvidia-nvtx-cu12==12.1.105\\r\\noauthlib==3.2.2\\r\\nopencensus==0.11.4\\r\\nopencensus-context==0.1.3\\r\\nopencensus-ext-azure==1.1.14\\r\\nopencv-python-headless==4.11.0.86\\r\\npackaging==25.0\\r\\nparamiko==3.5.1\\r\\npathspec==0.12.1\\r\\npillow==10.4.0\\r\\npkginfo==1.12.1.2\\r\\npkgutil_resolve_name==1.3.10\\r\\nproto-plus==1.26.1\\r\\nprotobuf==5.29.5\\r\\npsutil==7.0.0\\r\\npyarrow==17.0.0\\r\\npyasn1==0.6.1\\r\\npyasn1_modules==0.4.2\\r\\npycparser==2.22\\r\\npydantic==2.9.2\\r\\npydantic-settings==2.8.1\\r\\npydantic_core==2.23.4\\r\\nPygments==2.19.1\\r\\nPyJWT==2.9.0\\r\\nPyNaCl==1.5.0\\r\\npyOpenSSL==25.1.0\\r\\nPySocks==1.7.1\\r\\npython-dateutil==2.9.0.post0\\r\\npython-dotenv==1.0.1\\r\\npytz==2025.2\\r\\nPyYAML==6.0.2\\r\\nreferencing==0.35.1\\r\\nrequests==2.32.3\\r\\nrequests-oauthlib==2.0.0\\r\\nrpds-py==0.20.1\\r\\nrsa==4.9.1\\r\\nSecretStorage==3.3.3\\r\\nsix==1.17.0\\r\\nsympy==1.13.3\\r\\ntabulate==0.9.0\\r\\ntorch==2.4.1\\r\\ntorchvision==0.19.1\\r\\ntriton==3.0.0\\r\\ntyping_extensions==4.13.2\\r\\nurllib3==2.2.3\\r\\nWerkzeug==3.0.6\\r\\nwrapt==1.16.0\\r\\nzipp==3.20.2\\r\\n\\r\\n2025-06-01T16:54:22,422550723+00:00 | gunicorn/run | \\r\\n2025-06-01T16:54:22,424437412+00:00 | gunicorn/run | Entry script directory: /var/azureml-app/deployment//.\\r\\n2025-06-01T16:54:22,426278670+00:00 | gunicorn/run | \\r\\n2025-06-01T16:54:22,427256926+00:00 | gunicorn/run | ###############################################\\r\\n2025-06-01T16:54:22,428371841+00:00 | gunicorn/run | Dynamic Python Package Installation\\r\\n2025-06-01T16:54:22,429414045+00:00 | gunicorn/run | ###############################################\\r\\n2025-06-01T16:54:22,430991714+00:00 | gunicorn/run | \\r\\n2025-06-01T16:54:22,433176510+00:00 | gunicorn/run | Dynamic Python package installation is disabled.\\r\\n2025-06-01T16:54:22,434391459+00:00 | gunicorn/run | \\r\\n2025-06-01T16:54:22,436641930+00:00 | gunicorn/run | ###############################################\\r\\n2025-06-01T16:54:22,437554328+00:00 | gunicorn/run | Checking if the Python package azureml-inference-server-http is installed\\r\\n2025-06-01T16:54:22,438679667+00:00 | gunicorn/run | ###############################################\\r\\n2025-06-01T16:54:22,439628623+00:00 | gunicorn/run | \\r\\n2025-06-01T16:54:22,889515933+00:00 | gunicorn/run | \\r\\n2025-06-01T16:54:22,890839453+00:00 | gunicorn/run | ###############################################\\r\\n2025-06-01T16:54:22,891792352+00:00 | gunicorn/run | AzureML Inference Server\\r\\n2025-06-01T16:54:22,892622858+00:00 | gunicorn/run | ###############################################\\r\\n2025-06-01T16:54:22,894434134+00:00 | gunicorn/run | \\r\\n2025-06-01T16:54:22,899433985+00:00 | gunicorn/run | Starting AzureML Inference Server HTTP.\\r\\n2025-06-01 16:54:23,302 I [24] azmlinfsrv - Loaded logging config from /opt/miniconda/envs/inf-conda-env/lib/python3.8/site-packages/azureml_inference_server_http/logging.json\\r\\n\\r\\nAzure ML Inferencing HTTP server v1.3.4\\r\\n\\r\\n\\r\\nServer Settings\\r\\n---------------\\r\\nEntry Script Name: /var/azureml-app/deployment/score.py\\r\\nModel Directory: /var/azureml-app/azureml-models//ac085473d82899c3d3f7d5c5acad2c23/1\\r\\nConfig File: None\\r\\nWorker Count: 1\\r\\nWorker Timeout (seconds): 300\\r\\nServer Port: 31311\\r\\nHealth Port: 31311\\r\\nApplication Insights Enabled: false\\r\\nApplication Insights Key: None\\r\\nInferencing HTTP server version: azmlinfsrv/1.3.4\\r\\nCORS for the specified origins: None\\r\\nCreate dedicated endpoint for health: None\\r\\n\\r\\n\\r\\nServer Routes\\r\\n---------------\\r\\nLiveness Probe: GET   127.0.0.1:31311/\\r\\nScore:          POST  127.0.0.1:31311/score\\r\\n\\r\\n2025-06-01 16:54:23,374 I [24] gunicorn.error - Starting gunicorn 23.0.0\\r\\n2025-06-01 16:54:23,374 I [24] gunicorn.error - Listening at: http://0.0.0.0:31311 (24)\\r\\n2025-06-01 16:54:23,374 I [24] gunicorn.error - Using worker: sync\\r\\n2025-06-01 16:54:23,377 I [115] gunicorn.error - Booting worker with pid: 115\\r\\n2025-06-01 16:54:24,031 W [115] azmlinfsrv - Found extra keys in the config file that are not supported by the server.\\r\\nExtra keys = [\\'AZUREML_ENTRY_SCRIPT\\', \\'AZUREML_MODEL_DIR\\', \\'HOSTNAME\\']\\r\\n2025-06-01 16:54:25,243 I [115] azmlinfsrv - AML_FLASK_ONE_COMPATIBILITY is set. Patched Flask to ensure compatibility with Flask 1.\\r\\nInitializing logger\\r\\n2025-06-01 16:54:25,247 I [115] azmlinfsrv - Starting up app insights client\\r\\n2025-06-01 16:54:34,539 I [115] azmlinfsrv.user_script - Found user script at /var/azureml-app/deployment/score.py\\r\\n2025-06-01 16:54:34,539 I [115] azmlinfsrv.user_script - run() is not decorated. Server will invoke it with the input in JSON string.\\r\\n2025-06-01 16:54:34,539 I [115] azmlinfsrv.user_script - Invoking user\\'s init function\\r\\n/var/azureml-app/deployment/score.py:118: FutureWarning: You are using `torch.load` with `weights_only=False` (the current default value), which uses the default pickle module implicitly. It is possible to construct malicious pickle data which will execute arbitrary code during unpickling (See https://github.com/pytorch/pytorch/blob/main/SECURITY.md#untrusted-models for more details). In a future release, the default value for `weights_only` will be flipped to `True`. This limits the functions that could be executed during unpickling. Arbitrary objects will no longer be allowed to be loaded via this mode unless they are explicitly allowlisted by the user via `torch.serialization.add_safe_globals`. We recommend you start setting `weights_only=True` for any use case where you don\\'t have full control of the loaded file. Please open an issue on GitHub for any issues related to this experimental feature.\\r\\n  checkpoint = torch.load(model_path, lambda storage, loc: storage)\\r\\n2025-06-01 16:54:58,863 I [115] azmlinfsrv.user_script - Users\\'s init has completed successfully\\r\\n2025-06-01 16:54:58,866 I [115] azmlinfsrv.swagger - Swaggers are prepared for the following versions: [2, 3, 3.1].\\r\\n2025-06-01 16:54:58,866 I [115] azmlinfsrv - Scoring timeout is set to 3600000\\r\\n2025-06-01 16:54:58,866 I [115] azmlinfsrv - Worker with pid 115 ready for serving traffic\\r\\n2025-06-01 16:55:40,184 I [115] azmlinfsrv - POST /score 200 107.225ms 69\\r\\n2025-06-01 16:55:40,185 I [115] gunicorn.access - 127.0.0.1 - - [01/Jun/2025:16:55:40 +0000] \"POST /score HTTP/1.0\" 200 69 \"-\" \"PostmanRuntime/7.43.3\"\\r\\n2025-06-01 16:55:42,040 I [115] azmlinfsrv - POST /score 200 30.545ms 68\\r\\n2025-06-01 16:55:42,041 I [115] gunicorn.access - 127.0.0.1 - - [01/Jun/2025:16:55:42 +0000] \"POST /score HTTP/1.0\" 200 68 \"-\" \"PostmanRuntime/7.43.3\"\\r\\n'"
      ]
     },
     "execution_count": 36,
     "metadata": {},
     "output_type": "execute_result"
    }
   ],
   "source": [
    "ml_client.online_deployments.get_logs(\n",
    "    name=\"blue\", endpoint_name=endpoint_name, local=True, lines=1000\n",
    ")"
   ]
  },
  {
   "cell_type": "code",
   "execution_count": 37,
   "id": "2edcf4d5",
   "metadata": {},
   "outputs": [],
   "source": [
    "ml_client.online_endpoints.begin_delete(name=endpoint_name, local=True)"
   ]
  },
  {
   "cell_type": "code",
   "execution_count": 6,
   "id": "b58539f8",
   "metadata": {},
   "outputs": [],
   "source": [
    "from azure.ai.ml.entities import Model\n",
    "from azure.ai.ml.constants import AssetTypes"
   ]
  },
  {
   "cell_type": "code",
   "execution_count": 7,
   "id": "d7867567",
   "metadata": {},
   "outputs": [
    {
     "data": {
      "text/plain": [
       "['model.pth']"
      ]
     },
     "execution_count": 7,
     "metadata": {},
     "output_type": "execute_result"
    }
   ],
   "source": [
    "import os\n",
    "os.listdir(\"./model/\")"
   ]
  },
  {
   "cell_type": "code",
   "execution_count": 8,
   "id": "3fb4658c",
   "metadata": {},
   "outputs": [
    {
     "name": "stderr",
     "output_type": "stream",
     "text": [
      "\u001b[32mUploading model.pth\u001b[32m (< 1 MB): 239MB [01:19, 2.99MB/s]                            \n",
      "\u001b[39m\n",
      "\n"
     ]
    },
    {
     "data": {
      "text/plain": [
       "Model({'job_name': None, 'intellectual_property': None, 'system_metadata': None, 'is_anonymous': False, 'auto_increment_version': False, 'auto_delete_setting': None, 'name': 'mood-model', 'description': 'A model for mood classification', 'tags': {'framework': 'pytorch', 'version': '1.0'}, 'properties': {}, 'print_as_yaml': False, 'id': '/subscriptions/05e5ad0d-e911-4914-a2b2-7bd73b14d663/resourceGroups/soulfriendly/providers/Microsoft.MachineLearningServices/workspaces/soulfriend/models/mood-model/versions/1', 'Resource__source_path': '', 'base_path': 'd:\\\\Thoriq\\\\Project\\\\amls-pytorch-vscode\\\\deployment', 'creation_context': <azure.ai.ml.entities._system_data.SystemData object at 0x00000170BF469A50>, 'serialize': <msrest.serialization.Serializer object at 0x00000170C59B2ED0>, 'version': '1', 'latest_version': None, 'path': 'azureml://subscriptions/05e5ad0d-e911-4914-a2b2-7bd73b14d663/resourceGroups/soulfriendly/workspaces/soulfriend/datastores/workspaceblobstore/paths/LocalUpload/f92d4ce342d71543b85ad4d4f948e416/model.pth', 'datastore': None, 'utc_time_created': None, 'flavors': None, 'arm_type': 'model_version', 'type': 'custom_model', 'stage': 'Development'})"
      ]
     },
     "execution_count": 8,
     "metadata": {},
     "output_type": "execute_result"
    }
   ],
   "source": [
    "file_model = Model(\n",
    "    path=\"./model/model.pth\",\n",
    "    type=AssetTypes.CUSTOM_MODEL,\n",
    "    name=\"mood-model\",\n",
    "    description=\"A model for mood classification\",\n",
    "    tags={\"framework\": \"pytorch\", \"version\": \"1.0\"},\n",
    ")\n",
    "ml_client.models.create_or_update(file_model)"
   ]
  },
  {
   "cell_type": "code",
   "execution_count": 9,
   "id": "91af8224",
   "metadata": {},
   "outputs": [
    {
     "data": {
      "text/plain": [
       "Environment({'arm_type': 'environment_version', 'latest_version': None, 'image': 'mcr.microsoft.com/azureml/openmpi4.1.0-ubuntu20.04', 'intellectual_property': None, 'is_anonymous': False, 'auto_increment_version': False, 'auto_delete_setting': None, 'name': 'my-env', 'description': 'Environment created from a Docker image plus Conda environment.', 'tags': {}, 'properties': {'azureml.labels': 'latest'}, 'print_as_yaml': False, 'id': '/subscriptions/05e5ad0d-e911-4914-a2b2-7bd73b14d663/resourceGroups/soulfriendly/providers/Microsoft.MachineLearningServices/workspaces/soulfriend/environments/my-env/versions/1', 'Resource__source_path': '', 'base_path': 'd:\\\\Thoriq\\\\Project\\\\amls-pytorch-vscode\\\\deployment', 'creation_context': <azure.ai.ml.entities._system_data.SystemData object at 0x00000170C546C910>, 'serialize': <msrest.serialization.Serializer object at 0x00000170C5E74510>, 'version': '1', 'conda_file': {'channels': ['conda-forge'], 'dependencies': ['python=3.8', {'pip': ['azureml-defaults', 'torch', 'torchvision', 'pillow', 'opencv-python-headless']}], 'name': 'project_environment'}, 'build': None, 'inference_config': None, 'os_type': 'Linux', 'conda_file_path': None, 'path': None, 'datastore': None, 'upload_hash': None, 'translated_conda_file': '{\\n  \"channels\": [\\n    \"conda-forge\"\\n  ],\\n  \"dependencies\": [\\n    \"python=3.8\",\\n    {\\n      \"pip\": [\\n        \"azureml-defaults\",\\n        \"torch\",\\n        \"torchvision\",\\n        \"pillow\",\\n        \"opencv-python-headless\"\\n      ]\\n    }\\n  ],\\n  \"name\": \"project_environment\"\\n}'})"
      ]
     },
     "execution_count": 9,
     "metadata": {},
     "output_type": "execute_result"
    }
   ],
   "source": [
    "from azure.ai.ml.entities import Environment\n",
    "\n",
    "env_docker_conda = Environment(\n",
    "    image=\"mcr.microsoft.com/azureml/openmpi4.1.0-ubuntu20.04\",\n",
    "    conda_file=\"./conda.yml\",\n",
    "    name=\"my-env\",\n",
    "    description=\"Environment created from a Docker image plus Conda environment.\",\n",
    ")\n",
    "ml_client.environments.create_or_update(env_docker_conda)"
   ]
  },
  {
   "cell_type": "code",
   "execution_count": 5,
   "id": "1928e21d",
   "metadata": {},
   "outputs": [],
   "source": [
    "model = \"azureml:mood-model:1\"\n",
    "env = \"azureml:my-env:1\"\n",
    "endpoint_name = \"moodclassifier\"\n",
    " \n",
    "blue_deployment_with_registered_assets = ManagedOnlineDeployment(\n",
    "    name=\"blue\",\n",
    "    endpoint_name=endpoint_name,\n",
    "    model=model,\n",
    "    environment=env,\n",
    "    code_configuration=CodeConfiguration(\n",
    "        code=\".\", scoring_script=\"score.py\"\n",
    "    ),\n",
    "    instance_type=\"Standard_D2as_v4\",\n",
    "    instance_count=1,\n",
    ")"
   ]
  },
  {
   "cell_type": "code",
   "execution_count": 7,
   "id": "8cf43c69",
   "metadata": {},
   "outputs": [],
   "source": [
    "endpoint = ManagedOnlineEndpoint(\n",
    "    name = endpoint_name, \n",
    "    description=\"this is a sample endpoint\",\n",
    "    auth_mode=\"key\"\n",
    ")"
   ]
  },
  {
   "cell_type": "code",
   "execution_count": 8,
   "id": "250b14ac",
   "metadata": {},
   "outputs": [
    {
     "data": {
      "text/plain": [
       "<azure.core.polling._poller.LROPoller at 0x1564d125250>"
      ]
     },
     "execution_count": 8,
     "metadata": {},
     "output_type": "execute_result"
    }
   ],
   "source": [
    "ml_client.online_endpoints.begin_create_or_update(endpoint)"
   ]
  },
  {
   "cell_type": "code",
   "execution_count": 9,
   "id": "45896382",
   "metadata": {},
   "outputs": [
    {
     "name": "stderr",
     "output_type": "stream",
     "text": [
      "Check: endpoint moodclassifier exists\n",
      "Your file exceeds 100 MB. If you experience low speeds, latency, or broken connections, we recommend using the AzCopyv10 tool for this file transfer.\n",
      "\n",
      "Example: azcopy copy 'D:\\Thoriq\\Project\\amls-pytorch-vscode\\deployment' 'https://soulfriend9406066378.blob.core.windows.net/af650aaf-56f3-4a6b-a88a-47d21639cab4-1l19kpqacy49eq151eof6zp6o2/deployment' \n",
      "\n",
      "See https://learn.microsoft.com/azure/storage/common/storage-use-azcopy-v10 for more information.\n",
      "\u001b[32mUploading deployment (1826.31 MBs):   6%|6         | 114507917/1826307621 [00:33<04:55, 5798265.81it/s]Queue is full, likely spans will be dropped.\n",
      "Queue is full, likely spans will be dropped.\n",
      "\u001b[32mUploading deployment (1826.31 MBs): 100%|##########| 1826307621/1826307621 [09:01<00:00, 3372585.46it/s] \n",
      "\u001b[39m\n",
      "\n"
     ]
    },
    {
     "data": {
      "text/plain": [
       "<azure.core.polling._poller.LROPoller at 0x1564c48b7d0>"
      ]
     },
     "execution_count": 9,
     "metadata": {},
     "output_type": "execute_result"
    },
    {
     "name": "stdout",
     "output_type": "stream",
     "text": [
      "........."
     ]
    }
   ],
   "source": [
    "ml_client.online_deployments.begin_create_or_update(blue_deployment_with_registered_assets)"
   ]
  },
  {
   "cell_type": "code",
   "execution_count": 12,
   "id": "0c438e5c",
   "metadata": {},
   "outputs": [
    {
     "ename": "HttpResponseError",
     "evalue": "(BadRequest) The request is invalid.\nCode: BadRequest\nMessage: The request is invalid.\nException Details:\t(InferencingClientCallFailed) {\"error\":{\"code\":\"Validation\",\"message\":\"{\\\"errors\\\":{\\\"DeploymentWeights\\\":[\\\"Deployments given positive traffic values should be either in a successful or failed state. Unmatched deployments: [blue]\\\"]},\\\"type\\\":\\\"https://tools.ietf.org/html/rfc9110#section-15.5.1\\\",\\\"title\\\":\\\"One or more validation errors occurred.\\\",\\\"status\\\":400,\\\"traceId\\\":\\\"00-ccc632996124eec88ec4c3abc65353cc-659738e89f4e82c8-01\\\"}\"}}\n\tCode: InferencingClientCallFailed\n\tMessage: {\"error\":{\"code\":\"Validation\",\"message\":\"{\\\"errors\\\":{\\\"DeploymentWeights\\\":[\\\"Deployments given positive traffic values should be either in a successful or failed state. Unmatched deployments: [blue]\\\"]},\\\"type\\\":\\\"https://tools.ietf.org/html/rfc9110#section-15.5.1\\\",\\\"title\\\":\\\"One or more validation errors occurred.\\\",\\\"status\\\":400,\\\"traceId\\\":\\\"00-ccc632996124eec88ec4c3abc65353cc-659738e89f4e82c8-01\\\"}\"}}\nAdditional Information:Type: ComponentName\nInfo: {\n    \"value\": \"managementfrontend\"\n}Type: Correlation\nInfo: {\n    \"value\": {\n        \"operation\": \"ccc632996124eec88ec4c3abc65353cc\",\n        \"request\": \"6555ae739262f2ce\"\n    }\n}Type: Environment\nInfo: {\n    \"value\": \"eastasia\"\n}Type: Location\nInfo: {\n    \"value\": \"eastasia\"\n}Type: Time\nInfo: {\n    \"value\": \"2025-06-02T04:32:58.8446626+00:00\"\n}",
     "output_type": "error",
     "traceback": [
      "\u001b[31m---------------------------------------------------------------------------\u001b[39m",
      "\u001b[31mHttpResponseError\u001b[39m                         Traceback (most recent call last)",
      "\u001b[36mCell\u001b[39m\u001b[36m \u001b[39m\u001b[32mIn[12]\u001b[39m\u001b[32m, line 2\u001b[39m\n\u001b[32m      1\u001b[39m endpoint.traffic = {\u001b[33m\"\u001b[39m\u001b[33mblue\u001b[39m\u001b[33m\"\u001b[39m: \u001b[32m100\u001b[39m}\n\u001b[32m----> \u001b[39m\u001b[32m2\u001b[39m \u001b[43mml_client\u001b[49m\u001b[43m.\u001b[49m\u001b[43monline_endpoints\u001b[49m\u001b[43m.\u001b[49m\u001b[43mbegin_create_or_update\u001b[49m\u001b[43m(\u001b[49m\u001b[43mendpoint\u001b[49m\u001b[43m)\u001b[49m\n",
      "\u001b[36mFile \u001b[39m\u001b[32md:\\Thoriq\\Project\\amls-pytorch-vscode\\deployment\\.venv\\Lib\\site-packages\\azure\\core\\tracing\\decorator.py:138\u001b[39m, in \u001b[36mdistributed_trace.<locals>.decorator.<locals>.wrapper_use_tracer\u001b[39m\u001b[34m(*args, **kwargs)\u001b[39m\n\u001b[32m    136\u001b[39m             \u001b[38;5;28;01mfor\u001b[39;00m key, value \u001b[38;5;129;01min\u001b[39;00m span_attributes.items():\n\u001b[32m    137\u001b[39m                 span.add_attribute(key, value)  \u001b[38;5;66;03m# type: ignore\u001b[39;00m\n\u001b[32m--> \u001b[39m\u001b[32m138\u001b[39m             \u001b[38;5;28;01mreturn\u001b[39;00m \u001b[43mfunc\u001b[49m\u001b[43m(\u001b[49m\u001b[43m*\u001b[49m\u001b[43margs\u001b[49m\u001b[43m,\u001b[49m\u001b[43m \u001b[49m\u001b[43m*\u001b[49m\u001b[43m*\u001b[49m\u001b[43mkwargs\u001b[49m\u001b[43m)\u001b[49m\n\u001b[32m    139\u001b[39m \u001b[38;5;28;01melse\u001b[39;00m:\n\u001b[32m    140\u001b[39m     \u001b[38;5;66;03m# Native path\u001b[39;00m\n\u001b[32m    141\u001b[39m     config = {}\n",
      "\u001b[36mFile \u001b[39m\u001b[32md:\\Thoriq\\Project\\amls-pytorch-vscode\\deployment\\.venv\\Lib\\site-packages\\azure\\ai\\ml\\_telemetry\\activity.py:288\u001b[39m, in \u001b[36mmonitor_with_activity.<locals>.monitor.<locals>.wrapper\u001b[39m\u001b[34m(*args, **kwargs)\u001b[39m\n\u001b[32m    284\u001b[39m     \u001b[38;5;28;01mwith\u001b[39;00m tracer.start_as_current_span(ACTIVITY_SPAN):\n\u001b[32m    285\u001b[39m         \u001b[38;5;28;01mwith\u001b[39;00m log_activity(\n\u001b[32m    286\u001b[39m             logger.package_logger, activity_name \u001b[38;5;129;01mor\u001b[39;00m f.\u001b[34m__name__\u001b[39m, activity_type, custom_dimensions\n\u001b[32m    287\u001b[39m         ):\n\u001b[32m--> \u001b[39m\u001b[32m288\u001b[39m             \u001b[38;5;28;01mreturn\u001b[39;00m \u001b[43mf\u001b[49m\u001b[43m(\u001b[49m\u001b[43m*\u001b[49m\u001b[43margs\u001b[49m\u001b[43m,\u001b[49m\u001b[43m \u001b[49m\u001b[43m*\u001b[49m\u001b[43m*\u001b[49m\u001b[43mkwargs\u001b[49m\u001b[43m)\u001b[49m\n\u001b[32m    289\u001b[39m \u001b[38;5;28;01melif\u001b[39;00m \u001b[38;5;28mhasattr\u001b[39m(logger, \u001b[33m\"\u001b[39m\u001b[33mpackage_logger\u001b[39m\u001b[33m\"\u001b[39m):\n\u001b[32m    290\u001b[39m     \u001b[38;5;28;01mwith\u001b[39;00m log_activity(logger.package_logger, activity_name \u001b[38;5;129;01mor\u001b[39;00m f.\u001b[34m__name__\u001b[39m, activity_type, custom_dimensions):\n",
      "\u001b[36mFile \u001b[39m\u001b[32md:\\Thoriq\\Project\\amls-pytorch-vscode\\deployment\\.venv\\Lib\\site-packages\\azure\\ai\\ml\\operations\\_online_endpoint_operations.py:263\u001b[39m, in \u001b[36mOnlineEndpointOperations.begin_create_or_update\u001b[39m\u001b[34m(self, endpoint, local)\u001b[39m\n\u001b[32m    261\u001b[39m     log_and_raise_error(ex)\n\u001b[32m    262\u001b[39m \u001b[38;5;28;01melse\u001b[39;00m:\n\u001b[32m--> \u001b[39m\u001b[32m263\u001b[39m     \u001b[38;5;28;01mraise\u001b[39;00m ex\n",
      "\u001b[36mFile \u001b[39m\u001b[32md:\\Thoriq\\Project\\amls-pytorch-vscode\\deployment\\.venv\\Lib\\site-packages\\azure\\ai\\ml\\operations\\_online_endpoint_operations.py:258\u001b[39m, in \u001b[36mOnlineEndpointOperations.begin_create_or_update\u001b[39m\u001b[34m(self, endpoint, local)\u001b[39m\n\u001b[32m    255\u001b[39m         \u001b[38;5;28;01mreturn\u001b[39;00m poller\n\u001b[32m    257\u001b[39m     \u001b[38;5;28;01mexcept\u001b[39;00m \u001b[38;5;167;01mException\u001b[39;00m \u001b[38;5;28;01mas\u001b[39;00m ex:\n\u001b[32m--> \u001b[39m\u001b[32m258\u001b[39m         \u001b[38;5;28;01mraise\u001b[39;00m ex\n\u001b[32m    259\u001b[39m \u001b[38;5;28;01mexcept\u001b[39;00m \u001b[38;5;167;01mException\u001b[39;00m \u001b[38;5;28;01mas\u001b[39;00m ex:  \u001b[38;5;66;03m# pylint: disable=W0718\u001b[39;00m\n\u001b[32m    260\u001b[39m     \u001b[38;5;28;01mif\u001b[39;00m \u001b[38;5;28misinstance\u001b[39m(ex, (ValidationException, SchemaValidationError)):\n",
      "\u001b[36mFile \u001b[39m\u001b[32md:\\Thoriq\\Project\\amls-pytorch-vscode\\deployment\\.venv\\Lib\\site-packages\\azure\\ai\\ml\\operations\\_online_endpoint_operations.py:247\u001b[39m, in \u001b[36mOnlineEndpointOperations.begin_create_or_update\u001b[39m\u001b[34m(self, endpoint, local)\u001b[39m\n\u001b[32m    242\u001b[39m     \u001b[38;5;28;01mif\u001b[39;00m \u001b[38;5;28mhasattr\u001b[39m(endpoint_resource.properties, \u001b[33m\"\u001b[39m\u001b[33mcompute\u001b[39m\u001b[33m\"\u001b[39m):\n\u001b[32m    243\u001b[39m         endpoint_resource.properties.compute = orchestrators.get_asset_arm_id(\n\u001b[32m    244\u001b[39m             endpoint_resource.properties.compute,\n\u001b[32m    245\u001b[39m             azureml_type=AzureMLResourceType.COMPUTE,\n\u001b[32m    246\u001b[39m         )\n\u001b[32m--> \u001b[39m\u001b[32m247\u001b[39m     poller = \u001b[38;5;28;43mself\u001b[39;49m\u001b[43m.\u001b[49m\u001b[43m_online_operation\u001b[49m\u001b[43m.\u001b[49m\u001b[43mbegin_create_or_update\u001b[49m\u001b[43m(\u001b[49m\n\u001b[32m    248\u001b[39m \u001b[43m        \u001b[49m\u001b[43mresource_group_name\u001b[49m\u001b[43m=\u001b[49m\u001b[38;5;28;43mself\u001b[39;49m\u001b[43m.\u001b[49m\u001b[43m_resource_group_name\u001b[49m\u001b[43m,\u001b[49m\n\u001b[32m    249\u001b[39m \u001b[43m        \u001b[49m\u001b[43mworkspace_name\u001b[49m\u001b[43m=\u001b[49m\u001b[38;5;28;43mself\u001b[39;49m\u001b[43m.\u001b[49m\u001b[43m_workspace_name\u001b[49m\u001b[43m,\u001b[49m\n\u001b[32m    250\u001b[39m \u001b[43m        \u001b[49m\u001b[43mendpoint_name\u001b[49m\u001b[43m=\u001b[49m\u001b[43mendpoint\u001b[49m\u001b[43m.\u001b[49m\u001b[43mname\u001b[49m\u001b[43m,\u001b[49m\n\u001b[32m    251\u001b[39m \u001b[43m        \u001b[49m\u001b[43mbody\u001b[49m\u001b[43m=\u001b[49m\u001b[43mendpoint_resource\u001b[49m\u001b[43m,\u001b[49m\n\u001b[32m    252\u001b[39m \u001b[43m        \u001b[49m\u001b[38;5;28;43mcls\u001b[39;49m\u001b[43m=\u001b[49m\u001b[38;5;28;43;01mlambda\u001b[39;49;00m\u001b[43m \u001b[49m\u001b[43mresponse\u001b[49m\u001b[43m,\u001b[49m\u001b[43m \u001b[49m\u001b[43mdeserialized\u001b[49m\u001b[43m,\u001b[49m\u001b[43m \u001b[49m\u001b[43mheaders\u001b[49m\u001b[43m:\u001b[49m\u001b[43m \u001b[49m\u001b[43mOnlineEndpoint\u001b[49m\u001b[43m.\u001b[49m\u001b[43m_from_rest_object\u001b[49m\u001b[43m(\u001b[49m\u001b[43mdeserialized\u001b[49m\u001b[43m)\u001b[49m\u001b[43m,\u001b[49m\n\u001b[32m    253\u001b[39m \u001b[43m        \u001b[49m\u001b[43m*\u001b[49m\u001b[43m*\u001b[49m\u001b[38;5;28;43mself\u001b[39;49m\u001b[43m.\u001b[49m\u001b[43m_init_kwargs\u001b[49m\u001b[43m,\u001b[49m\n\u001b[32m    254\u001b[39m \u001b[43m    \u001b[49m\u001b[43m)\u001b[49m\n\u001b[32m    255\u001b[39m     \u001b[38;5;28;01mreturn\u001b[39;00m poller\n\u001b[32m    257\u001b[39m \u001b[38;5;28;01mexcept\u001b[39;00m \u001b[38;5;167;01mException\u001b[39;00m \u001b[38;5;28;01mas\u001b[39;00m ex:\n",
      "\u001b[36mFile \u001b[39m\u001b[32md:\\Thoriq\\Project\\amls-pytorch-vscode\\deployment\\.venv\\Lib\\site-packages\\azure\\core\\tracing\\decorator.py:138\u001b[39m, in \u001b[36mdistributed_trace.<locals>.decorator.<locals>.wrapper_use_tracer\u001b[39m\u001b[34m(*args, **kwargs)\u001b[39m\n\u001b[32m    136\u001b[39m             \u001b[38;5;28;01mfor\u001b[39;00m key, value \u001b[38;5;129;01min\u001b[39;00m span_attributes.items():\n\u001b[32m    137\u001b[39m                 span.add_attribute(key, value)  \u001b[38;5;66;03m# type: ignore\u001b[39;00m\n\u001b[32m--> \u001b[39m\u001b[32m138\u001b[39m             \u001b[38;5;28;01mreturn\u001b[39;00m \u001b[43mfunc\u001b[49m\u001b[43m(\u001b[49m\u001b[43m*\u001b[49m\u001b[43margs\u001b[49m\u001b[43m,\u001b[49m\u001b[43m \u001b[49m\u001b[43m*\u001b[49m\u001b[43m*\u001b[49m\u001b[43mkwargs\u001b[49m\u001b[43m)\u001b[49m\n\u001b[32m    139\u001b[39m \u001b[38;5;28;01melse\u001b[39;00m:\n\u001b[32m    140\u001b[39m     \u001b[38;5;66;03m# Native path\u001b[39;00m\n\u001b[32m    141\u001b[39m     config = {}\n",
      "\u001b[36mFile \u001b[39m\u001b[32md:\\Thoriq\\Project\\amls-pytorch-vscode\\deployment\\.venv\\Lib\\site-packages\\azure\\ai\\ml\\_restclient\\v2022_02_01_preview\\operations\\_online_endpoints_operations.py:921\u001b[39m, in \u001b[36mOnlineEndpointsOperations.begin_create_or_update\u001b[39m\u001b[34m(self, resource_group_name, workspace_name, endpoint_name, body, **kwargs)\u001b[39m\n\u001b[32m    919\u001b[39m cont_token = kwargs.pop(\u001b[33m'\u001b[39m\u001b[33mcontinuation_token\u001b[39m\u001b[33m'\u001b[39m, \u001b[38;5;28;01mNone\u001b[39;00m)  \u001b[38;5;66;03m# type: Optional[str]\u001b[39;00m\n\u001b[32m    920\u001b[39m \u001b[38;5;28;01mif\u001b[39;00m cont_token \u001b[38;5;129;01mis\u001b[39;00m \u001b[38;5;28;01mNone\u001b[39;00m:\n\u001b[32m--> \u001b[39m\u001b[32m921\u001b[39m     raw_result = \u001b[38;5;28;43mself\u001b[39;49m\u001b[43m.\u001b[49m\u001b[43m_create_or_update_initial\u001b[49m\u001b[43m(\u001b[49m\n\u001b[32m    922\u001b[39m \u001b[43m        \u001b[49m\u001b[43mresource_group_name\u001b[49m\u001b[43m=\u001b[49m\u001b[43mresource_group_name\u001b[49m\u001b[43m,\u001b[49m\n\u001b[32m    923\u001b[39m \u001b[43m        \u001b[49m\u001b[43mworkspace_name\u001b[49m\u001b[43m=\u001b[49m\u001b[43mworkspace_name\u001b[49m\u001b[43m,\u001b[49m\n\u001b[32m    924\u001b[39m \u001b[43m        \u001b[49m\u001b[43mendpoint_name\u001b[49m\u001b[43m=\u001b[49m\u001b[43mendpoint_name\u001b[49m\u001b[43m,\u001b[49m\n\u001b[32m    925\u001b[39m \u001b[43m        \u001b[49m\u001b[43mbody\u001b[49m\u001b[43m=\u001b[49m\u001b[43mbody\u001b[49m\u001b[43m,\u001b[49m\n\u001b[32m    926\u001b[39m \u001b[43m        \u001b[49m\u001b[43mcontent_type\u001b[49m\u001b[43m=\u001b[49m\u001b[43mcontent_type\u001b[49m\u001b[43m,\u001b[49m\n\u001b[32m    927\u001b[39m \u001b[43m        \u001b[49m\u001b[38;5;28;43mcls\u001b[39;49m\u001b[43m=\u001b[49m\u001b[38;5;28;43;01mlambda\u001b[39;49;00m\u001b[43m \u001b[49m\u001b[43mx\u001b[49m\u001b[43m,\u001b[49m\u001b[43my\u001b[49m\u001b[43m,\u001b[49m\u001b[43mz\u001b[49m\u001b[43m:\u001b[49m\u001b[43m \u001b[49m\u001b[43mx\u001b[49m\u001b[43m,\u001b[49m\n\u001b[32m    928\u001b[39m \u001b[43m        \u001b[49m\u001b[43m*\u001b[49m\u001b[43m*\u001b[49m\u001b[43mkwargs\u001b[49m\n\u001b[32m    929\u001b[39m \u001b[43m    \u001b[49m\u001b[43m)\u001b[49m\n\u001b[32m    930\u001b[39m kwargs.pop(\u001b[33m'\u001b[39m\u001b[33merror_map\u001b[39m\u001b[33m'\u001b[39m, \u001b[38;5;28;01mNone\u001b[39;00m)\n\u001b[32m    932\u001b[39m \u001b[38;5;28;01mdef\u001b[39;00m\u001b[38;5;250m \u001b[39m\u001b[34mget_long_running_output\u001b[39m(pipeline_response):\n",
      "\u001b[36mFile \u001b[39m\u001b[32md:\\Thoriq\\Project\\amls-pytorch-vscode\\deployment\\.venv\\Lib\\site-packages\\azure\\ai\\ml\\_restclient\\v2022_02_01_preview\\operations\\_online_endpoints_operations.py:856\u001b[39m, in \u001b[36mOnlineEndpointsOperations._create_or_update_initial\u001b[39m\u001b[34m(self, resource_group_name, workspace_name, endpoint_name, body, **kwargs)\u001b[39m\n\u001b[32m    854\u001b[39m \u001b[38;5;28;01mif\u001b[39;00m response.status_code \u001b[38;5;129;01mnot\u001b[39;00m \u001b[38;5;129;01min\u001b[39;00m [\u001b[32m200\u001b[39m, \u001b[32m201\u001b[39m]:\n\u001b[32m    855\u001b[39m     map_error(status_code=response.status_code, response=response, error_map=error_map)\n\u001b[32m--> \u001b[39m\u001b[32m856\u001b[39m     \u001b[38;5;28;01mraise\u001b[39;00m HttpResponseError(response=response, error_format=ARMErrorFormat)\n\u001b[32m    858\u001b[39m response_headers = {}\n\u001b[32m    859\u001b[39m \u001b[38;5;28;01mif\u001b[39;00m response.status_code == \u001b[32m200\u001b[39m:\n",
      "\u001b[31mHttpResponseError\u001b[39m: (BadRequest) The request is invalid.\nCode: BadRequest\nMessage: The request is invalid.\nException Details:\t(InferencingClientCallFailed) {\"error\":{\"code\":\"Validation\",\"message\":\"{\\\"errors\\\":{\\\"DeploymentWeights\\\":[\\\"Deployments given positive traffic values should be either in a successful or failed state. Unmatched deployments: [blue]\\\"]},\\\"type\\\":\\\"https://tools.ietf.org/html/rfc9110#section-15.5.1\\\",\\\"title\\\":\\\"One or more validation errors occurred.\\\",\\\"status\\\":400,\\\"traceId\\\":\\\"00-ccc632996124eec88ec4c3abc65353cc-659738e89f4e82c8-01\\\"}\"}}\n\tCode: InferencingClientCallFailed\n\tMessage: {\"error\":{\"code\":\"Validation\",\"message\":\"{\\\"errors\\\":{\\\"DeploymentWeights\\\":[\\\"Deployments given positive traffic values should be either in a successful or failed state. Unmatched deployments: [blue]\\\"]},\\\"type\\\":\\\"https://tools.ietf.org/html/rfc9110#section-15.5.1\\\",\\\"title\\\":\\\"One or more validation errors occurred.\\\",\\\"status\\\":400,\\\"traceId\\\":\\\"00-ccc632996124eec88ec4c3abc65353cc-659738e89f4e82c8-01\\\"}\"}}\nAdditional Information:Type: ComponentName\nInfo: {\n    \"value\": \"managementfrontend\"\n}Type: Correlation\nInfo: {\n    \"value\": {\n        \"operation\": \"ccc632996124eec88ec4c3abc65353cc\",\n        \"request\": \"6555ae739262f2ce\"\n    }\n}Type: Environment\nInfo: {\n    \"value\": \"eastasia\"\n}Type: Location\nInfo: {\n    \"value\": \"eastasia\"\n}Type: Time\nInfo: {\n    \"value\": \"2025-06-02T04:32:58.8446626+00:00\"\n}"
     ]
    }
   ],
   "source": [
    "endpoint.traffic = {\"blue\": 100}\n",
    "ml_client.online_endpoints.begin_create_or_update(endpoint)"
   ]
  },
  {
   "cell_type": "code",
   "execution_count": 13,
   "id": "4a8dfd72",
   "metadata": {},
   "outputs": [
    {
     "data": {
      "text/plain": [
       "ManagedOnlineEndpoint({'public_network_access': 'Enabled', 'provisioning_state': 'Succeeded', 'scoring_uri': 'https://moodclassifier.eastasia.inference.ml.azure.com/score', 'openapi_uri': 'https://moodclassifier.eastasia.inference.ml.azure.com/swagger.json', 'name': 'moodclassifier', 'description': 'Endpoint for mood classification', 'tags': {}, 'properties': {'createdBy': 'abhinaya rajendra', 'createdAt': '2025-06-02T04:25:37.351837+0000', 'lastModifiedAt': '2025-06-02T04:25:37.351837+0000', 'azureml.onlineendpointid': '/subscriptions/05e5ad0d-e911-4914-a2b2-7bd73b14d663/resourcegroups/soulfriendly/providers/microsoft.machinelearningservices/workspaces/soulfriend/onlineendpoints/moodclassifier', 'AzureAsyncOperationUri': 'https://management.azure.com/subscriptions/05e5ad0d-e911-4914-a2b2-7bd73b14d663/providers/Microsoft.MachineLearningServices/locations/eastasia/mfeOperationsStatus/oeidp:af650aaf-56f3-4a6b-a88a-47d21639cab4:7f522150-2188-4cf5-a897-5a7fbbd5f35f?api-version=2022-02-01-preview'}, 'print_as_yaml': False, 'id': '/subscriptions/05e5ad0d-e911-4914-a2b2-7bd73b14d663/resourceGroups/soulfriendly/providers/Microsoft.MachineLearningServices/workspaces/soulfriend/onlineEndpoints/moodclassifier', 'Resource__source_path': '', 'base_path': 'd:\\\\Thoriq\\\\Project\\\\amls-pytorch-vscode\\\\deployment', 'creation_context': None, 'serialize': <msrest.serialization.Serializer object at 0x000002687F40DCD0>, 'auth_mode': 'key', 'location': 'eastasia', 'identity': <azure.ai.ml.entities._credentials.IdentityConfiguration object at 0x000002687EBD74D0>, 'traffic': {}, 'mirror_traffic': {}, 'kind': 'Managed'})"
      ]
     },
     "execution_count": 13,
     "metadata": {},
     "output_type": "execute_result"
    }
   ],
   "source": [
    "ml_client.online_endpoints.get(name=endpoint_name)"
   ]
  },
  {
   "cell_type": "code",
   "execution_count": 14,
   "id": "2519d8a3",
   "metadata": {},
   "outputs": [
    {
     "ename": "ResourceNotFoundError",
     "evalue": "(ResourceNotFound) The Resource 'Microsoft.MachineLearningServices/workspaces/soulfriend/onlineEndpoints/moodclassifier/deployments/blue' under resource group 'soulfriendly' was not found. For more details please go to https://aka.ms/ARMResourceNotFoundFix\nCode: ResourceNotFound\nMessage: The Resource 'Microsoft.MachineLearningServices/workspaces/soulfriend/onlineEndpoints/moodclassifier/deployments/blue' under resource group 'soulfriendly' was not found. For more details please go to https://aka.ms/ARMResourceNotFoundFix",
     "output_type": "error",
     "traceback": [
      "\u001b[31m---------------------------------------------------------------------------\u001b[39m",
      "\u001b[31mResourceNotFoundError\u001b[39m                     Traceback (most recent call last)",
      "\u001b[36mCell\u001b[39m\u001b[36m \u001b[39m\u001b[32mIn[14]\u001b[39m\u001b[32m, line 1\u001b[39m\n\u001b[32m----> \u001b[39m\u001b[32m1\u001b[39m \u001b[43mml_client\u001b[49m\u001b[43m.\u001b[49m\u001b[43monline_deployments\u001b[49m\u001b[43m.\u001b[49m\u001b[43mget_logs\u001b[49m\u001b[43m(\u001b[49m\n\u001b[32m      2\u001b[39m \u001b[43m    \u001b[49m\u001b[43mname\u001b[49m\u001b[43m=\u001b[49m\u001b[33;43m\"\u001b[39;49m\u001b[33;43mblue\u001b[39;49m\u001b[33;43m\"\u001b[39;49m\u001b[43m,\u001b[49m\u001b[43m \u001b[49m\u001b[43mendpoint_name\u001b[49m\u001b[43m=\u001b[49m\u001b[43mendpoint_name\u001b[49m\u001b[43m,\u001b[49m\u001b[43m \u001b[49m\u001b[43mlines\u001b[49m\u001b[43m=\u001b[49m\u001b[32;43m50\u001b[39;49m\n\u001b[32m      3\u001b[39m \u001b[43m)\u001b[49m\n",
      "\u001b[36mFile \u001b[39m\u001b[32md:\\Thoriq\\Project\\amls-pytorch-vscode\\deployment\\.venv\\Lib\\site-packages\\azure\\core\\tracing\\decorator.py:138\u001b[39m, in \u001b[36mdistributed_trace.<locals>.decorator.<locals>.wrapper_use_tracer\u001b[39m\u001b[34m(*args, **kwargs)\u001b[39m\n\u001b[32m    136\u001b[39m             \u001b[38;5;28;01mfor\u001b[39;00m key, value \u001b[38;5;129;01min\u001b[39;00m span_attributes.items():\n\u001b[32m    137\u001b[39m                 span.add_attribute(key, value)  \u001b[38;5;66;03m# type: ignore\u001b[39;00m\n\u001b[32m--> \u001b[39m\u001b[32m138\u001b[39m             \u001b[38;5;28;01mreturn\u001b[39;00m \u001b[43mfunc\u001b[49m\u001b[43m(\u001b[49m\u001b[43m*\u001b[49m\u001b[43margs\u001b[49m\u001b[43m,\u001b[49m\u001b[43m \u001b[49m\u001b[43m*\u001b[49m\u001b[43m*\u001b[49m\u001b[43mkwargs\u001b[49m\u001b[43m)\u001b[49m\n\u001b[32m    139\u001b[39m \u001b[38;5;28;01melse\u001b[39;00m:\n\u001b[32m    140\u001b[39m     \u001b[38;5;66;03m# Native path\u001b[39;00m\n\u001b[32m    141\u001b[39m     config = {}\n",
      "\u001b[36mFile \u001b[39m\u001b[32md:\\Thoriq\\Project\\amls-pytorch-vscode\\deployment\\.venv\\Lib\\site-packages\\azure\\ai\\ml\\_telemetry\\activity.py:288\u001b[39m, in \u001b[36mmonitor_with_activity.<locals>.monitor.<locals>.wrapper\u001b[39m\u001b[34m(*args, **kwargs)\u001b[39m\n\u001b[32m    284\u001b[39m     \u001b[38;5;28;01mwith\u001b[39;00m tracer.start_as_current_span(ACTIVITY_SPAN):\n\u001b[32m    285\u001b[39m         \u001b[38;5;28;01mwith\u001b[39;00m log_activity(\n\u001b[32m    286\u001b[39m             logger.package_logger, activity_name \u001b[38;5;129;01mor\u001b[39;00m f.\u001b[34m__name__\u001b[39m, activity_type, custom_dimensions\n\u001b[32m    287\u001b[39m         ):\n\u001b[32m--> \u001b[39m\u001b[32m288\u001b[39m             \u001b[38;5;28;01mreturn\u001b[39;00m \u001b[43mf\u001b[49m\u001b[43m(\u001b[49m\u001b[43m*\u001b[49m\u001b[43margs\u001b[49m\u001b[43m,\u001b[49m\u001b[43m \u001b[49m\u001b[43m*\u001b[49m\u001b[43m*\u001b[49m\u001b[43mkwargs\u001b[49m\u001b[43m)\u001b[49m\n\u001b[32m    289\u001b[39m \u001b[38;5;28;01melif\u001b[39;00m \u001b[38;5;28mhasattr\u001b[39m(logger, \u001b[33m\"\u001b[39m\u001b[33mpackage_logger\u001b[39m\u001b[33m\"\u001b[39m):\n\u001b[32m    290\u001b[39m     \u001b[38;5;28;01mwith\u001b[39;00m log_activity(logger.package_logger, activity_name \u001b[38;5;129;01mor\u001b[39;00m f.\u001b[34m__name__\u001b[39m, activity_type, custom_dimensions):\n",
      "\u001b[36mFile \u001b[39m\u001b[32md:\\Thoriq\\Project\\amls-pytorch-vscode\\deployment\\.venv\\Lib\\site-packages\\azure\\ai\\ml\\operations\\_online_deployment_operations.py:311\u001b[39m, in \u001b[36mOnlineDeploymentOperations.get_logs\u001b[39m\u001b[34m(self, name, endpoint_name, lines, container_type, local)\u001b[39m\n\u001b[32m    308\u001b[39m     container_type = \u001b[38;5;28mself\u001b[39m._validate_deployment_log_container_type(container_type)  \u001b[38;5;66;03m# type: ignore\u001b[39;00m\n\u001b[32m    309\u001b[39m log_request = DeploymentLogsRequest(container_type=container_type, tail=lines)\n\u001b[32m    310\u001b[39m \u001b[38;5;28;01mreturn\u001b[39;00m \u001b[38;5;28mstr\u001b[39m(\n\u001b[32m--> \u001b[39m\u001b[32m311\u001b[39m     \u001b[38;5;28;43mself\u001b[39;49m\u001b[43m.\u001b[49m\u001b[43m_online_deployment\u001b[49m\u001b[43m.\u001b[49m\u001b[43mget_logs\u001b[49m\u001b[43m(\u001b[49m\n\u001b[32m    312\u001b[39m \u001b[43m        \u001b[49m\u001b[43mresource_group_name\u001b[49m\u001b[43m=\u001b[49m\u001b[38;5;28;43mself\u001b[39;49m\u001b[43m.\u001b[49m\u001b[43m_resource_group_name\u001b[49m\u001b[43m,\u001b[49m\n\u001b[32m    313\u001b[39m \u001b[43m        \u001b[49m\u001b[43mworkspace_name\u001b[49m\u001b[43m=\u001b[49m\u001b[38;5;28;43mself\u001b[39;49m\u001b[43m.\u001b[49m\u001b[43m_workspace_name\u001b[49m\u001b[43m,\u001b[49m\n\u001b[32m    314\u001b[39m \u001b[43m        \u001b[49m\u001b[43mendpoint_name\u001b[49m\u001b[43m=\u001b[49m\u001b[43mendpoint_name\u001b[49m\u001b[43m,\u001b[49m\n\u001b[32m    315\u001b[39m \u001b[43m        \u001b[49m\u001b[43mdeployment_name\u001b[49m\u001b[43m=\u001b[49m\u001b[43mname\u001b[49m\u001b[43m,\u001b[49m\n\u001b[32m    316\u001b[39m \u001b[43m        \u001b[49m\u001b[43mbody\u001b[49m\u001b[43m=\u001b[49m\u001b[43mlog_request\u001b[49m\u001b[43m,\u001b[49m\n\u001b[32m    317\u001b[39m \u001b[43m        \u001b[49m\u001b[43m*\u001b[49m\u001b[43m*\u001b[49m\u001b[38;5;28;43mself\u001b[39;49m\u001b[43m.\u001b[49m\u001b[43m_init_kwargs\u001b[49m\u001b[43m,\u001b[49m\n\u001b[32m    318\u001b[39m \u001b[43m    \u001b[49m\u001b[43m)\u001b[49m.content\n\u001b[32m    319\u001b[39m )\n",
      "\u001b[36mFile \u001b[39m\u001b[32md:\\Thoriq\\Project\\amls-pytorch-vscode\\deployment\\.venv\\Lib\\site-packages\\azure\\core\\tracing\\decorator.py:138\u001b[39m, in \u001b[36mdistributed_trace.<locals>.decorator.<locals>.wrapper_use_tracer\u001b[39m\u001b[34m(*args, **kwargs)\u001b[39m\n\u001b[32m    136\u001b[39m             \u001b[38;5;28;01mfor\u001b[39;00m key, value \u001b[38;5;129;01min\u001b[39;00m span_attributes.items():\n\u001b[32m    137\u001b[39m                 span.add_attribute(key, value)  \u001b[38;5;66;03m# type: ignore\u001b[39;00m\n\u001b[32m--> \u001b[39m\u001b[32m138\u001b[39m             \u001b[38;5;28;01mreturn\u001b[39;00m \u001b[43mfunc\u001b[49m\u001b[43m(\u001b[49m\u001b[43m*\u001b[49m\u001b[43margs\u001b[49m\u001b[43m,\u001b[49m\u001b[43m \u001b[49m\u001b[43m*\u001b[49m\u001b[43m*\u001b[49m\u001b[43mkwargs\u001b[49m\u001b[43m)\u001b[49m\n\u001b[32m    139\u001b[39m \u001b[38;5;28;01melse\u001b[39;00m:\n\u001b[32m    140\u001b[39m     \u001b[38;5;66;03m# Native path\u001b[39;00m\n\u001b[32m    141\u001b[39m     config = {}\n",
      "\u001b[36mFile \u001b[39m\u001b[32md:\\Thoriq\\Project\\amls-pytorch-vscode\\deployment\\.venv\\Lib\\site-packages\\azure\\ai\\ml\\_restclient\\v2023_04_01_preview\\operations\\_online_deployments_operations.py:1031\u001b[39m, in \u001b[36mOnlineDeploymentsOperations.get_logs\u001b[39m\u001b[34m(self, resource_group_name, workspace_name, endpoint_name, deployment_name, body, **kwargs)\u001b[39m\n\u001b[32m   1028\u001b[39m response = pipeline_response.http_response\n\u001b[32m   1030\u001b[39m \u001b[38;5;28;01mif\u001b[39;00m response.status_code \u001b[38;5;129;01mnot\u001b[39;00m \u001b[38;5;129;01min\u001b[39;00m [\u001b[32m200\u001b[39m]:\n\u001b[32m-> \u001b[39m\u001b[32m1031\u001b[39m     \u001b[43mmap_error\u001b[49m\u001b[43m(\u001b[49m\u001b[43mstatus_code\u001b[49m\u001b[43m=\u001b[49m\u001b[43mresponse\u001b[49m\u001b[43m.\u001b[49m\u001b[43mstatus_code\u001b[49m\u001b[43m,\u001b[49m\u001b[43m \u001b[49m\u001b[43mresponse\u001b[49m\u001b[43m=\u001b[49m\u001b[43mresponse\u001b[49m\u001b[43m,\u001b[49m\u001b[43m \u001b[49m\u001b[43merror_map\u001b[49m\u001b[43m=\u001b[49m\u001b[43merror_map\u001b[49m\u001b[43m)\u001b[49m\n\u001b[32m   1032\u001b[39m     error = \u001b[38;5;28mself\u001b[39m._deserialize.failsafe_deserialize(_models.ErrorResponse, pipeline_response)\n\u001b[32m   1033\u001b[39m     \u001b[38;5;28;01mraise\u001b[39;00m HttpResponseError(response=response, model=error, error_format=ARMErrorFormat)\n",
      "\u001b[36mFile \u001b[39m\u001b[32md:\\Thoriq\\Project\\amls-pytorch-vscode\\deployment\\.venv\\Lib\\site-packages\\azure\\core\\exceptions.py:163\u001b[39m, in \u001b[36mmap_error\u001b[39m\u001b[34m(status_code, response, error_map)\u001b[39m\n\u001b[32m    161\u001b[39m     \u001b[38;5;28;01mreturn\u001b[39;00m\n\u001b[32m    162\u001b[39m error = error_type(response=response)\n\u001b[32m--> \u001b[39m\u001b[32m163\u001b[39m \u001b[38;5;28;01mraise\u001b[39;00m error\n",
      "\u001b[31mResourceNotFoundError\u001b[39m: (ResourceNotFound) The Resource 'Microsoft.MachineLearningServices/workspaces/soulfriend/onlineEndpoints/moodclassifier/deployments/blue' under resource group 'soulfriendly' was not found. For more details please go to https://aka.ms/ARMResourceNotFoundFix\nCode: ResourceNotFound\nMessage: The Resource 'Microsoft.MachineLearningServices/workspaces/soulfriend/onlineEndpoints/moodclassifier/deployments/blue' under resource group 'soulfriendly' was not found. For more details please go to https://aka.ms/ARMResourceNotFoundFix"
     ]
    }
   ],
   "source": [
    "ml_client.online_deployments.get_logs(\n",
    "    name=\"blue\", endpoint_name=endpoint_name, lines=50\n",
    ")"
   ]
  }
 ],
 "metadata": {
  "kernelspec": {
   "display_name": ".venv",
   "language": "python",
   "name": "python3"
  },
  "language_info": {
   "codemirror_mode": {
    "name": "ipython",
    "version": 3
   },
   "file_extension": ".py",
   "mimetype": "text/x-python",
   "name": "python",
   "nbconvert_exporter": "python",
   "pygments_lexer": "ipython3",
   "version": "3.11.9"
  }
 },
 "nbformat": 4,
 "nbformat_minor": 5
}
